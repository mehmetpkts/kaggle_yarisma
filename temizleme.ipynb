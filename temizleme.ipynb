{
 "cells": [
  {
   "cell_type": "markdown",
   "id": "7f3883c0",
   "metadata": {},
   "source": [
    "İlk başta yapmamız gereken kategorik verileri kategorik haline çevirmek. (tür değişimi yap)\n",
    "////\n",
    "Daha sonra lazım olmayan besin değerini kaldırmak gerekli\n",
    "////\n",
    "tarih değerlerinin tarih tarih değil yıl yıl fiyatlarının ortalam ya da standart sapma şeklinde kategorik veriye çevir.\n",
    "////\n",
    " Daha sonra nümerik değerlerdeki çıkarılabilecek herhanig bir değer var mı araşatır gerekirse IQR değerlerine bakarak min max değerleri belirle ve daha sonra aykırı değerleri çıkar.\n",
    "////\n",
    "Sonra dtamızdaki kategorik özellikler ve nümerik özellikleri bil liste halinde yaz\n",
    "////\n",
    "Daha sonra pipeline oluştur\n",
    "////\n",
    "Daha sonra test verisini ve eğitim verisini oluştur.\n",
    "////\n",
    "Sonra modeli oluştur (LinearRegression)\n",
    "////\n",
    "Daha sonra modeli fit ile kullan\n",
    "////\n",
    "Daha sonra modelin doğruluk değerlerine bak."
   ]
  },
  {
   "cell_type": "code",
   "execution_count": 141,
   "id": "ca86a00f",
   "metadata": {},
   "outputs": [],
   "source": [
    "import pandas as pd # dataFrame haline çalışabilmek için, verileri daha iyi işleyebilmek için\n",
    "import numpy as np # diziler üzerinde kullanılabilecek matematiksel ifadeler içeren kütüphane\n",
    "\n",
    "from sklearn.model_selection import train_test_split # verileri ayırabilmek için\n",
    "\n",
    "#model\n",
    "from catboost import CatBoostRegressor, Pool\n",
    "\n",
    "#modelin doğruluğunu ölçmek için\n",
    "from sklearn.metrics import mean_squared_error, mean_absolute_error, r2_score\n",
    "\n",
    "import matplotlib.pyplot as plt # grafik oluşturmak için"
   ]
  },
  {
   "cell_type": "code",
   "execution_count": 142,
   "id": "9df48da3",
   "metadata": {},
   "outputs": [],
   "source": [
    "df = pd.read_csv('train.csv')"
   ]
  },
  {
   "cell_type": "code",
   "execution_count": 143,
   "id": "32a11a9d",
   "metadata": {},
   "outputs": [
    {
     "data": {
      "text/html": [
       "<div>\n",
       "<style scoped>\n",
       "    .dataframe tbody tr th:only-of-type {\n",
       "        vertical-align: middle;\n",
       "    }\n",
       "\n",
       "    .dataframe tbody tr th {\n",
       "        vertical-align: top;\n",
       "    }\n",
       "\n",
       "    .dataframe thead th {\n",
       "        text-align: right;\n",
       "    }\n",
       "</style>\n",
       "<table border=\"1\" class=\"dataframe\">\n",
       "  <thead>\n",
       "    <tr style=\"text-align: right;\">\n",
       "      <th></th>\n",
       "      <th>tarih</th>\n",
       "      <th>ürün</th>\n",
       "      <th>ürün besin değeri</th>\n",
       "      <th>ürün kategorisi</th>\n",
       "      <th>ürün fiyatı</th>\n",
       "      <th>ürün üretim yeri</th>\n",
       "      <th>market</th>\n",
       "      <th>şehir</th>\n",
       "    </tr>\n",
       "  </thead>\n",
       "  <tbody>\n",
       "    <tr>\n",
       "      <th>0</th>\n",
       "      <td>2019-01-01</td>\n",
       "      <td>kıyma</td>\n",
       "      <td>120</td>\n",
       "      <td>et</td>\n",
       "      <td>32.70</td>\n",
       "      <td>Yurt içi</td>\n",
       "      <td>K</td>\n",
       "      <td>S</td>\n",
       "    </tr>\n",
       "    <tr>\n",
       "      <th>1</th>\n",
       "      <td>2019-01-01</td>\n",
       "      <td>tavuk</td>\n",
       "      <td>103</td>\n",
       "      <td>et</td>\n",
       "      <td>11.04</td>\n",
       "      <td>Yurt içi</td>\n",
       "      <td>K</td>\n",
       "      <td>S</td>\n",
       "    </tr>\n",
       "    <tr>\n",
       "      <th>2</th>\n",
       "      <td>2019-01-01</td>\n",
       "      <td>hindi</td>\n",
       "      <td>160</td>\n",
       "      <td>et</td>\n",
       "      <td>11.20</td>\n",
       "      <td>Yurt içi</td>\n",
       "      <td>K</td>\n",
       "      <td>S</td>\n",
       "    </tr>\n",
       "    <tr>\n",
       "      <th>3</th>\n",
       "      <td>2019-01-01</td>\n",
       "      <td>Bakla-kuru</td>\n",
       "      <td>354</td>\n",
       "      <td>sebze ve bakliyat</td>\n",
       "      <td>7.04</td>\n",
       "      <td>Yurt içi</td>\n",
       "      <td>K</td>\n",
       "      <td>S</td>\n",
       "    </tr>\n",
       "    <tr>\n",
       "      <th>4</th>\n",
       "      <td>2019-01-01</td>\n",
       "      <td>Bakla-taze</td>\n",
       "      <td>72</td>\n",
       "      <td>sebze ve bakliyat</td>\n",
       "      <td>13.28</td>\n",
       "      <td>Yurt içi</td>\n",
       "      <td>K</td>\n",
       "      <td>S</td>\n",
       "    </tr>\n",
       "  </tbody>\n",
       "</table>\n",
       "</div>"
      ],
      "text/plain": [
       "        tarih        ürün  ürün besin değeri    ürün kategorisi  ürün fiyatı  \\\n",
       "0  2019-01-01       kıyma                120                 et        32.70   \n",
       "1  2019-01-01       tavuk                103                 et        11.04   \n",
       "2  2019-01-01       hindi                160                 et        11.20   \n",
       "3  2019-01-01  Bakla-kuru                354  sebze ve bakliyat         7.04   \n",
       "4  2019-01-01  Bakla-taze                 72  sebze ve bakliyat        13.28   \n",
       "\n",
       "  ürün üretim yeri market şehir  \n",
       "0         Yurt içi      K     S  \n",
       "1         Yurt içi      K     S  \n",
       "2         Yurt içi      K     S  \n",
       "3         Yurt içi      K     S  \n",
       "4         Yurt içi      K     S  "
      ]
     },
     "execution_count": 143,
     "metadata": {},
     "output_type": "execute_result"
    }
   ],
   "source": [
    "df.head() # verinin özelliklerini ve satırlarını görmüş olduk."
   ]
  },
  {
   "cell_type": "code",
   "execution_count": 144,
   "id": "d4a5dd35",
   "metadata": {},
   "outputs": [
    {
     "name": "stdout",
     "output_type": "stream",
     "text": [
      "<class 'pandas.core.frame.DataFrame'>\n",
      "RangeIndex: 227520 entries, 0 to 227519\n",
      "Data columns (total 8 columns):\n",
      " #   Column             Non-Null Count   Dtype  \n",
      "---  ------             --------------   -----  \n",
      " 0   tarih              227520 non-null  object \n",
      " 1   ürün               227520 non-null  object \n",
      " 2   ürün besin değeri  227520 non-null  int64  \n",
      " 3   ürün kategorisi    227520 non-null  object \n",
      " 4   ürün fiyatı        227520 non-null  float64\n",
      " 5   ürün üretim yeri   227520 non-null  object \n",
      " 6   market             227520 non-null  object \n",
      " 7   şehir              227520 non-null  object \n",
      "dtypes: float64(1), int64(1), object(6)\n",
      "memory usage: 13.9+ MB\n"
     ]
    }
   ],
   "source": [
    "df.info() # eksik veri olmadığını ve bu verilerin türlerini görmüş olduk."
   ]
  },
  {
   "cell_type": "code",
   "execution_count": 145,
   "id": "692d82b4",
   "metadata": {},
   "outputs": [
    {
     "data": {
      "text/html": [
       "<div>\n",
       "<style scoped>\n",
       "    .dataframe tbody tr th:only-of-type {\n",
       "        vertical-align: middle;\n",
       "    }\n",
       "\n",
       "    .dataframe tbody tr th {\n",
       "        vertical-align: top;\n",
       "    }\n",
       "\n",
       "    .dataframe thead th {\n",
       "        text-align: right;\n",
       "    }\n",
       "</style>\n",
       "<table border=\"1\" class=\"dataframe\">\n",
       "  <thead>\n",
       "    <tr style=\"text-align: right;\">\n",
       "      <th></th>\n",
       "      <th>ürün besin değeri</th>\n",
       "      <th>ürün fiyatı</th>\n",
       "    </tr>\n",
       "  </thead>\n",
       "  <tbody>\n",
       "    <tr>\n",
       "      <th>count</th>\n",
       "      <td>227520.000000</td>\n",
       "      <td>227520.000000</td>\n",
       "    </tr>\n",
       "    <tr>\n",
       "      <th>mean</th>\n",
       "      <td>143.113924</td>\n",
       "      <td>17.018837</td>\n",
       "    </tr>\n",
       "    <tr>\n",
       "      <th>std</th>\n",
       "      <td>133.218871</td>\n",
       "      <td>14.470524</td>\n",
       "    </tr>\n",
       "    <tr>\n",
       "      <th>min</th>\n",
       "      <td>8.000000</td>\n",
       "      <td>0.740000</td>\n",
       "    </tr>\n",
       "    <tr>\n",
       "      <th>25%</th>\n",
       "      <td>41.000000</td>\n",
       "      <td>7.380000</td>\n",
       "    </tr>\n",
       "    <tr>\n",
       "      <th>50%</th>\n",
       "      <td>83.000000</td>\n",
       "      <td>12.860000</td>\n",
       "    </tr>\n",
       "    <tr>\n",
       "      <th>75%</th>\n",
       "      <td>250.000000</td>\n",
       "      <td>21.630000</td>\n",
       "    </tr>\n",
       "    <tr>\n",
       "      <th>max</th>\n",
       "      <td>402.000000</td>\n",
       "      <td>164.530000</td>\n",
       "    </tr>\n",
       "  </tbody>\n",
       "</table>\n",
       "</div>"
      ],
      "text/plain": [
       "       ürün besin değeri    ürün fiyatı\n",
       "count      227520.000000  227520.000000\n",
       "mean          143.113924      17.018837\n",
       "std           133.218871      14.470524\n",
       "min             8.000000       0.740000\n",
       "25%            41.000000       7.380000\n",
       "50%            83.000000      12.860000\n",
       "75%           250.000000      21.630000\n",
       "max           402.000000     164.530000"
      ]
     },
     "execution_count": 145,
     "metadata": {},
     "output_type": "execute_result"
    }
   ],
   "source": [
    "df.describe() # verilerin matematiksel hesaplarını görmüş olduk."
   ]
  },
  {
   "cell_type": "code",
   "execution_count": 146,
   "id": "546041d4",
   "metadata": {},
   "outputs": [
    {
     "data": {
      "text/plain": [
       "<bound method DataFrame.sum of         tarih   ürün  ürün besin değeri  ürün kategorisi  ürün fiyatı  \\\n",
       "0       False  False              False            False        False   \n",
       "1       False  False              False            False        False   \n",
       "2       False  False              False            False        False   \n",
       "3       False  False              False            False        False   \n",
       "4       False  False              False            False        False   \n",
       "...       ...    ...                ...              ...          ...   \n",
       "227515  False  False              False            False        False   \n",
       "227516  False  False              False            False        False   \n",
       "227517  False  False              False            False        False   \n",
       "227518  False  False              False            False        False   \n",
       "227519  False  False              False            False        False   \n",
       "\n",
       "        ürün üretim yeri  market  şehir  \n",
       "0                  False   False  False  \n",
       "1                  False   False  False  \n",
       "2                  False   False  False  \n",
       "3                  False   False  False  \n",
       "4                  False   False  False  \n",
       "...                  ...     ...    ...  \n",
       "227515             False   False  False  \n",
       "227516             False   False  False  \n",
       "227517             False   False  False  \n",
       "227518             False   False  False  \n",
       "227519             False   False  False  \n",
       "\n",
       "[227520 rows x 8 columns]>"
      ]
     },
     "execution_count": 146,
     "metadata": {},
     "output_type": "execute_result"
    }
   ],
   "source": [
    "df.isnull().sum # burada ise bütün colonları tek tek eksik veri var mı diye sorguladık ama eksik veri olmadığından bğtğn değerler gördüğümüz gibi False çıktı."
   ]
  },
  {
   "cell_type": "code",
   "execution_count": 147,
   "id": "8949e231",
   "metadata": {},
   "outputs": [],
   "source": [
    "cat_features = ['ürün', 'market', 'şehir', 'ürün kategorisi', 'ürün üretim yeri']\n",
    "# bütün kategorik değerler eklendi"
   ]
  },
  {
   "cell_type": "code",
   "execution_count": 148,
   "id": "e47786c9",
   "metadata": {},
   "outputs": [],
   "source": [
    "# bunların içerisine tarih verisi de eklenebilir."
   ]
  },
  {
   "cell_type": "markdown",
   "id": "f0afbbab",
   "metadata": {},
   "source": [
    "Tarih verilerini DateTime'e çevirme"
   ]
  },
  {
   "cell_type": "code",
   "execution_count": 149,
   "id": "58607429",
   "metadata": {},
   "outputs": [],
   "source": [
    "# tarih kolonu DateTime formatına çevrildi.\n",
    "df['tarih'] = pd.to_datetime(df['tarih'])\n",
    "\n",
    "# yıl ay gün olarak yeni sütunlar oluşturma:\n",
    "df['yıl'] = df['tarih'].dt.year\n",
    "df['ay'] = df['tarih'].dt.month\n",
    "df['gün'] = df['tarih'].dt.day\n",
    "df['hafta_günü'] = df['tarih'].dt.dayofweek"
   ]
  },
  {
   "cell_type": "code",
   "execution_count": 150,
   "id": "d8f9efa4",
   "metadata": {},
   "outputs": [
    {
     "name": "stdout",
     "output_type": "stream",
     "text": [
      "<class 'pandas.core.frame.DataFrame'>\n",
      "RangeIndex: 227520 entries, 0 to 227519\n",
      "Data columns (total 12 columns):\n",
      " #   Column             Non-Null Count   Dtype         \n",
      "---  ------             --------------   -----         \n",
      " 0   tarih              227520 non-null  datetime64[ns]\n",
      " 1   ürün               227520 non-null  object        \n",
      " 2   ürün besin değeri  227520 non-null  int64         \n",
      " 3   ürün kategorisi    227520 non-null  object        \n",
      " 4   ürün fiyatı        227520 non-null  float64       \n",
      " 5   ürün üretim yeri   227520 non-null  object        \n",
      " 6   market             227520 non-null  object        \n",
      " 7   şehir              227520 non-null  object        \n",
      " 8   yıl                227520 non-null  int32         \n",
      " 9   ay                 227520 non-null  int32         \n",
      " 10  gün                227520 non-null  int32         \n",
      " 11  hafta_günü         227520 non-null  int32         \n",
      "dtypes: datetime64[ns](1), float64(1), int32(4), int64(1), object(5)\n",
      "memory usage: 17.4+ MB\n"
     ]
    }
   ],
   "source": [
    "df.info()"
   ]
  },
  {
   "cell_type": "code",
   "execution_count": 151,
   "id": "55cd31dc",
   "metadata": {},
   "outputs": [],
   "source": [
    "# Şehir ve ürün bazında ortalama fiyat\n",
    "df['şehir_ürün_ortalama_fiyat'] = df.groupby(['şehir', 'ürün'])['ürün fiyatı'].transform('mean')"
   ]
  },
  {
   "cell_type": "code",
   "execution_count": 152,
   "id": "6a772d65",
   "metadata": {},
   "outputs": [],
   "source": [
    "df['önceki fiyat'] = df.groupby('ürün')['ürün fiyatı'].shift(1)"
   ]
  },
  {
   "cell_type": "markdown",
   "id": "462941f5",
   "metadata": {},
   "source": [
    "Veri setini eğitim ve test olarak bölme"
   ]
  },
  {
   "cell_type": "code",
   "execution_count": 153,
   "id": "799567e5",
   "metadata": {},
   "outputs": [],
   "source": [
    "# model eğiteceğimiz için X matrisi için yaptığımız şey fiyatın olduğu yeri kaldırmak.\n",
    "X = df.drop(columns=['ürün fiyatı'])\n",
    "# buradaki amaç ise y vektörüne ürünlerin fiyatlarını atamak\n",
    "y = df['ürün fiyatı'] \n",
    "\n",
    "# verileri eğitim ve test olarak ayırma\n",
    "\n",
    "X_train, X_test, y_train, y_test = train_test_split(X, y, test_size=0.2, random_state=42)"
   ]
  },
  {
   "cell_type": "code",
   "execution_count": 154,
   "id": "e6d7efa2",
   "metadata": {},
   "outputs": [],
   "source": [
    "# catboost modeli için kategorik sütunların indeksleri\n",
    "\n",
    "cat_features_indices = [X.columns.get_loc(col) for col in cat_features]"
   ]
  },
  {
   "cell_type": "code",
   "execution_count": 155,
   "id": "ce0cc1d9",
   "metadata": {},
   "outputs": [],
   "source": [
    "X_train = X_train.drop(columns=['tarih'])\n",
    "X_test = X_test.drop(columns=['tarih'])"
   ]
  },
  {
   "cell_type": "code",
   "execution_count": 156,
   "id": "da22fe29",
   "metadata": {},
   "outputs": [],
   "source": [
    "cat_features = [col for col in X_train.columns if X_train[col].dtype == 'object']\n",
    "cat_features_indices = [X_train.columns.get_loc(col) for col in cat_features]\n"
   ]
  },
  {
   "cell_type": "code",
   "execution_count": 157,
   "id": "4b9c538a",
   "metadata": {},
   "outputs": [],
   "source": [
    "#catboost modeli pool objesi oluştur. Bu format hızlı ve uygun\n",
    "train_pool = Pool(X_train, y_train, cat_features=cat_features_indices)\n",
    "test_pool = Pool(X_test,y_test, cat_features=cat_features_indices)"
   ]
  },
  {
   "cell_type": "code",
   "execution_count": 158,
   "id": "abb2e000",
   "metadata": {},
   "outputs": [],
   "source": [
    "model = CatBoostRegressor(\n",
    "    iterations=1000,\n",
    "    learning_rate=0.05,\n",
    "    depth=6,\n",
    "    loss_function='RMSE',\n",
    "    early_stopping_rounds=50,\n",
    "    verbose=100\n",
    ")"
   ]
  },
  {
   "cell_type": "code",
   "execution_count": 159,
   "id": "ae28d9af",
   "metadata": {},
   "outputs": [
    {
     "name": "stdout",
     "output_type": "stream",
     "text": [
      "0:\tlearn: 13.8151205\ttest: 13.7204194\tbest: 13.7204194 (0)\ttotal: 96.7ms\tremaining: 1m 36s\n",
      "100:\tlearn: 1.9027072\ttest: 1.9076603\tbest: 1.9076603 (100)\ttotal: 10.9s\tremaining: 1m 36s\n"
     ]
    },
    {
     "ename": "KeyboardInterrupt",
     "evalue": "",
     "output_type": "error",
     "traceback": [
      "\u001b[31m---------------------------------------------------------------------------\u001b[39m",
      "\u001b[31mKeyboardInterrupt\u001b[39m                         Traceback (most recent call last)",
      "\u001b[36mCell\u001b[39m\u001b[36m \u001b[39m\u001b[32mIn[159]\u001b[39m\u001b[32m, line 1\u001b[39m\n\u001b[32m----> \u001b[39m\u001b[32m1\u001b[39m \u001b[43mmodel\u001b[49m\u001b[43m.\u001b[49m\u001b[43mfit\u001b[49m\u001b[43m(\u001b[49m\u001b[43mtrain_pool\u001b[49m\u001b[43m,\u001b[49m\u001b[43m \u001b[49m\u001b[43meval_set\u001b[49m\u001b[43m=\u001b[49m\u001b[43mtest_pool\u001b[49m\u001b[43m)\u001b[49m\n",
      "\u001b[36mFile \u001b[39m\u001b[32m~\\AppData\\Roaming\\Python\\Python311\\site-packages\\catboost\\core.py:5873\u001b[39m, in \u001b[36mCatBoostRegressor.fit\u001b[39m\u001b[34m(self, X, y, cat_features, text_features, embedding_features, graph, sample_weight, baseline, use_best_model, eval_set, verbose, logging_level, plot, plot_file, column_description, verbose_eval, metric_period, silent, early_stopping_rounds, save_snapshot, snapshot_file, snapshot_interval, init_model, callbacks, log_cout, log_cerr)\u001b[39m\n\u001b[32m   5871\u001b[39m \u001b[38;5;28;01mif\u001b[39;00m \u001b[33m'\u001b[39m\u001b[33mloss_function\u001b[39m\u001b[33m'\u001b[39m \u001b[38;5;129;01min\u001b[39;00m params:\n\u001b[32m   5872\u001b[39m     CatBoostRegressor._check_is_compatible_loss(params[\u001b[33m'\u001b[39m\u001b[33mloss_function\u001b[39m\u001b[33m'\u001b[39m])\n\u001b[32m-> \u001b[39m\u001b[32m5873\u001b[39m \u001b[38;5;28;01mreturn\u001b[39;00m \u001b[38;5;28;43mself\u001b[39;49m\u001b[43m.\u001b[49m\u001b[43m_fit\u001b[49m\u001b[43m(\u001b[49m\u001b[43mX\u001b[49m\u001b[43m,\u001b[49m\u001b[43m \u001b[49m\u001b[43my\u001b[49m\u001b[43m,\u001b[49m\u001b[43m \u001b[49m\u001b[43mcat_features\u001b[49m\u001b[43m,\u001b[49m\u001b[43m \u001b[49m\u001b[43mtext_features\u001b[49m\u001b[43m,\u001b[49m\u001b[43m \u001b[49m\u001b[43membedding_features\u001b[49m\u001b[43m,\u001b[49m\u001b[43m \u001b[49m\u001b[38;5;28;43;01mNone\u001b[39;49;00m\u001b[43m,\u001b[49m\u001b[43m \u001b[49m\u001b[43mgraph\u001b[49m\u001b[43m,\u001b[49m\u001b[43m \u001b[49m\u001b[43msample_weight\u001b[49m\u001b[43m,\u001b[49m\u001b[43m \u001b[49m\u001b[38;5;28;43;01mNone\u001b[39;49;00m\u001b[43m,\u001b[49m\u001b[43m \u001b[49m\u001b[38;5;28;43;01mNone\u001b[39;49;00m\u001b[43m,\u001b[49m\u001b[43m \u001b[49m\u001b[38;5;28;43;01mNone\u001b[39;49;00m\u001b[43m,\u001b[49m\u001b[43m \u001b[49m\u001b[38;5;28;43;01mNone\u001b[39;49;00m\u001b[43m,\u001b[49m\u001b[43m \u001b[49m\u001b[43mbaseline\u001b[49m\u001b[43m,\u001b[49m\n\u001b[32m   5874\u001b[39m \u001b[43m                 \u001b[49m\u001b[43muse_best_model\u001b[49m\u001b[43m,\u001b[49m\u001b[43m \u001b[49m\u001b[43meval_set\u001b[49m\u001b[43m,\u001b[49m\u001b[43m \u001b[49m\u001b[43mverbose\u001b[49m\u001b[43m,\u001b[49m\u001b[43m \u001b[49m\u001b[43mlogging_level\u001b[49m\u001b[43m,\u001b[49m\u001b[43m \u001b[49m\u001b[43mplot\u001b[49m\u001b[43m,\u001b[49m\u001b[43m \u001b[49m\u001b[43mplot_file\u001b[49m\u001b[43m,\u001b[49m\u001b[43m \u001b[49m\u001b[43mcolumn_description\u001b[49m\u001b[43m,\u001b[49m\n\u001b[32m   5875\u001b[39m \u001b[43m                 \u001b[49m\u001b[43mverbose_eval\u001b[49m\u001b[43m,\u001b[49m\u001b[43m \u001b[49m\u001b[43mmetric_period\u001b[49m\u001b[43m,\u001b[49m\u001b[43m \u001b[49m\u001b[43msilent\u001b[49m\u001b[43m,\u001b[49m\u001b[43m \u001b[49m\u001b[43mearly_stopping_rounds\u001b[49m\u001b[43m,\u001b[49m\n\u001b[32m   5876\u001b[39m \u001b[43m                 \u001b[49m\u001b[43msave_snapshot\u001b[49m\u001b[43m,\u001b[49m\u001b[43m \u001b[49m\u001b[43msnapshot_file\u001b[49m\u001b[43m,\u001b[49m\u001b[43m \u001b[49m\u001b[43msnapshot_interval\u001b[49m\u001b[43m,\u001b[49m\u001b[43m \u001b[49m\u001b[43minit_model\u001b[49m\u001b[43m,\u001b[49m\u001b[43m \u001b[49m\u001b[43mcallbacks\u001b[49m\u001b[43m,\u001b[49m\u001b[43m \u001b[49m\u001b[43mlog_cout\u001b[49m\u001b[43m,\u001b[49m\u001b[43m \u001b[49m\u001b[43mlog_cerr\u001b[49m\u001b[43m)\u001b[49m\n",
      "\u001b[36mFile \u001b[39m\u001b[32m~\\AppData\\Roaming\\Python\\Python311\\site-packages\\catboost\\core.py:2410\u001b[39m, in \u001b[36mCatBoost._fit\u001b[39m\u001b[34m(self, X, y, cat_features, text_features, embedding_features, pairs, graph, sample_weight, group_id, group_weight, subgroup_id, pairs_weight, baseline, use_best_model, eval_set, verbose, logging_level, plot, plot_file, column_description, verbose_eval, metric_period, silent, early_stopping_rounds, save_snapshot, snapshot_file, snapshot_interval, init_model, callbacks, log_cout, log_cerr)\u001b[39m\n\u001b[32m   2407\u001b[39m allow_clear_pool = train_params[\u001b[33m\"\u001b[39m\u001b[33mallow_clear_pool\u001b[39m\u001b[33m\"\u001b[39m]\n\u001b[32m   2409\u001b[39m \u001b[38;5;28;01mwith\u001b[39;00m plot_wrapper(plot, plot_file, \u001b[33m'\u001b[39m\u001b[33mTraining plots\u001b[39m\u001b[33m'\u001b[39m, [_get_train_dir(\u001b[38;5;28mself\u001b[39m.get_params())]):\n\u001b[32m-> \u001b[39m\u001b[32m2410\u001b[39m     \u001b[38;5;28;43mself\u001b[39;49m\u001b[43m.\u001b[49m\u001b[43m_train\u001b[49m\u001b[43m(\u001b[49m\n\u001b[32m   2411\u001b[39m \u001b[43m        \u001b[49m\u001b[43mtrain_pool\u001b[49m\u001b[43m,\u001b[49m\n\u001b[32m   2412\u001b[39m \u001b[43m        \u001b[49m\u001b[43mtrain_params\u001b[49m\u001b[43m[\u001b[49m\u001b[33;43m\"\u001b[39;49m\u001b[33;43meval_sets\u001b[39;49m\u001b[33;43m\"\u001b[39;49m\u001b[43m]\u001b[49m\u001b[43m,\u001b[49m\n\u001b[32m   2413\u001b[39m \u001b[43m        \u001b[49m\u001b[43mparams\u001b[49m\u001b[43m,\u001b[49m\n\u001b[32m   2414\u001b[39m \u001b[43m        \u001b[49m\u001b[43mallow_clear_pool\u001b[49m\u001b[43m,\u001b[49m\n\u001b[32m   2415\u001b[39m \u001b[43m        \u001b[49m\u001b[43mtrain_params\u001b[49m\u001b[43m[\u001b[49m\u001b[33;43m\"\u001b[39;49m\u001b[33;43minit_model\u001b[39;49m\u001b[33;43m\"\u001b[39;49m\u001b[43m]\u001b[49m\n\u001b[32m   2416\u001b[39m \u001b[43m    \u001b[49m\u001b[43m)\u001b[49m\n\u001b[32m   2418\u001b[39m \u001b[38;5;66;03m# Have property feature_importance possibly set\u001b[39;00m\n\u001b[32m   2419\u001b[39m loss = \u001b[38;5;28mself\u001b[39m._object._get_loss_function_name()\n",
      "\u001b[36mFile \u001b[39m\u001b[32m~\\AppData\\Roaming\\Python\\Python311\\site-packages\\catboost\\core.py:1790\u001b[39m, in \u001b[36m_CatBoostBase._train\u001b[39m\u001b[34m(self, train_pool, test_pool, params, allow_clear_pool, init_model)\u001b[39m\n\u001b[32m   1789\u001b[39m \u001b[38;5;28;01mdef\u001b[39;00m\u001b[38;5;250m \u001b[39m\u001b[34m_train\u001b[39m(\u001b[38;5;28mself\u001b[39m, train_pool, test_pool, params, allow_clear_pool, init_model):\n\u001b[32m-> \u001b[39m\u001b[32m1790\u001b[39m     \u001b[38;5;28;43mself\u001b[39;49m\u001b[43m.\u001b[49m\u001b[43m_object\u001b[49m\u001b[43m.\u001b[49m\u001b[43m_train\u001b[49m\u001b[43m(\u001b[49m\u001b[43mtrain_pool\u001b[49m\u001b[43m,\u001b[49m\u001b[43m \u001b[49m\u001b[43mtest_pool\u001b[49m\u001b[43m,\u001b[49m\u001b[43m \u001b[49m\u001b[43mparams\u001b[49m\u001b[43m,\u001b[49m\u001b[43m \u001b[49m\u001b[43mallow_clear_pool\u001b[49m\u001b[43m,\u001b[49m\u001b[43m \u001b[49m\u001b[43minit_model\u001b[49m\u001b[43m.\u001b[49m\u001b[43m_object\u001b[49m\u001b[43m \u001b[49m\u001b[38;5;28;43;01mif\u001b[39;49;00m\u001b[43m \u001b[49m\u001b[43minit_model\u001b[49m\u001b[43m \u001b[49m\u001b[38;5;28;43;01melse\u001b[39;49;00m\u001b[43m \u001b[49m\u001b[38;5;28;43;01mNone\u001b[39;49;00m\u001b[43m)\u001b[49m\n\u001b[32m   1791\u001b[39m     \u001b[38;5;28mself\u001b[39m._set_trained_model_attributes()\n",
      "\u001b[36mFile \u001b[39m\u001b[32m_catboost.pyx:5023\u001b[39m, in \u001b[36m_catboost._CatBoost._train\u001b[39m\u001b[34m()\u001b[39m\n",
      "\u001b[36mFile \u001b[39m\u001b[32m_catboost.pyx:5072\u001b[39m, in \u001b[36m_catboost._CatBoost._train\u001b[39m\u001b[34m()\u001b[39m\n",
      "\u001b[31mKeyboardInterrupt\u001b[39m: "
     ]
    }
   ],
   "source": [
    "model.fit(train_pool, eval_set=test_pool)"
   ]
  },
  {
   "cell_type": "code",
   "execution_count": null,
   "id": "a1ae9078",
   "metadata": {},
   "outputs": [
    {
     "name": "stdout",
     "output_type": "stream",
     "text": [
      "✅ RMSE (Root Mean Squared Error): 1.366\n",
      "✅ MAE  (Mean Absolute Error):     0.828\n",
      "✅ R²   (R-squared):                0.991\n"
     ]
    }
   ],
   "source": [
    "# Test verisi üzerinde tahmin yap\n",
    "y_pred = model.predict(test_pool)\n",
    "\n",
    "rmse = np.sqrt(mean_squared_error(y_test, y_pred))\n",
    "mae = mean_absolute_error(y_test, y_pred)\n",
    "r2 = r2_score(y_test, y_pred)\n",
    "\n",
    "print(f\"✅ RMSE (Root Mean Squared Error): {rmse:.3f}\")\n",
    "print(f\"✅ MAE  (Mean Absolute Error):     {mae:.3f}\")\n",
    "print(f\"✅ R²   (R-squared):                {r2:.3f}\")\n"
   ]
  },
  {
   "cell_type": "code",
   "execution_count": null,
   "id": "33ad6290",
   "metadata": {},
   "outputs": [
    {
     "data": {
      "image/png": "[encoded data removed]",
      "text/plain": [
       "<Figure size 1200x600 with 1 Axes>"
      ]
     },
     "metadata": {},
     "output_type": "display_data"
    }
   ],
   "source": [
    "# grafşkleştirme\n",
    "\n",
    "feature_importances = model.get_feature_importance()\n",
    "feature_names = X_train.columns\n",
    "\n",
    "plt.figure(figsize=(12, 6))\n",
    "plt.barh(feature_names, feature_importances)\n",
    "plt.xlabel(\"Önem Skoru\")\n",
    "plt.title(\"CatBoost - Özellik Önem Grafiği\")\n",
    "plt.tight_layout()\n",
    "plt.show()"
   ]
  },
  {
   "cell_type": "code",
   "execution_count": null,
   "id": "33832e83",
   "metadata": {},
   "outputs": [],
   "source": [
    "# Modeli diske kaydet\n",
    "model.save_model(\"catboost_model.cbm\")\n",
    "\n",
    "# Yeniden yüklemek istersen:\n",
    "# from catboost import CatBoostRegressor\n",
    "# model = CatBoostRegressor()\n",
    "# model.load_model(\"catboost_model.cbm\")\n"
   ]
  }
 ],
 "metadata": {
  "kernelspec": {
   "display_name": "base",
   "language": "python",
   "name": "python3"
  },
  "language_info": {
   "codemirror_mode": {
    "name": "ipython",
    "version": 3
   },
   "file_extension": ".py",
   "mimetype": "text/x-python",
   "name": "python",
   "nbconvert_exporter": "python",
   "pygments_lexer": "ipython3",
   "version": "3.11.5"
  }
 },
 "nbformat": 4,
 "nbformat_minor": 5
}
