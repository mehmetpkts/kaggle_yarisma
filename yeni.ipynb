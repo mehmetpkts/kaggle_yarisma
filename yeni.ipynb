{
 "cells": [
  {
   "cell_type": "code",
   "execution_count": 2,
   "id": "64803d91",
   "metadata": {},
   "outputs": [],
   "source": [
    "import pandas as pd\n",
    "import numpy as np\n",
    "from catboost import CatBoostRegressor, Pool\n",
    "from sklearn.model_selection import train_test_split\n",
    "from sklearn.metrics import mean_squared_error"
   ]
  },
  {
   "cell_type": "code",
   "execution_count": 3,
   "id": "6df8420e",
   "metadata": {},
   "outputs": [],
   "source": [
    "df = pd.read_csv('train.csv')"
   ]
  },
  {
   "cell_type": "code",
   "execution_count": 4,
   "id": "e3c8c346",
   "metadata": {},
   "outputs": [
    {
     "name": "stdout",
     "output_type": "stream",
     "text": [
      "<class 'pandas.core.frame.DataFrame'>\n",
      "RangeIndex: 227520 entries, 0 to 227519\n",
      "Data columns (total 8 columns):\n",
      " #   Column             Non-Null Count   Dtype  \n",
      "---  ------             --------------   -----  \n",
      " 0   tarih              227520 non-null  object \n",
      " 1   ürün               227520 non-null  object \n",
      " 2   ürün besin değeri  227520 non-null  int64  \n",
      " 3   ürün kategorisi    227520 non-null  object \n",
      " 4   ürün fiyatı        227520 non-null  float64\n",
      " 5   ürün üretim yeri   227520 non-null  object \n",
      " 6   market             227520 non-null  object \n",
      " 7   şehir              227520 non-null  object \n",
      "dtypes: float64(1), int64(1), object(6)\n",
      "memory usage: 13.9+ MB\n"
     ]
    }
   ],
   "source": [
    "df.info()"
   ]
  },
  {
   "cell_type": "code",
   "execution_count": 5,
   "id": "96d5658d",
   "metadata": {},
   "outputs": [
    {
     "data": {
      "text/html": [
       "<div>\n",
       "<style scoped>\n",
       "    .dataframe tbody tr th:only-of-type {\n",
       "        vertical-align: middle;\n",
       "    }\n",
       "\n",
       "    .dataframe tbody tr th {\n",
       "        vertical-align: top;\n",
       "    }\n",
       "\n",
       "    .dataframe thead th {\n",
       "        text-align: right;\n",
       "    }\n",
       "</style>\n",
       "<table border=\"1\" class=\"dataframe\">\n",
       "  <thead>\n",
       "    <tr style=\"text-align: right;\">\n",
       "      <th></th>\n",
       "      <th>ürün besin değeri</th>\n",
       "      <th>ürün fiyatı</th>\n",
       "    </tr>\n",
       "  </thead>\n",
       "  <tbody>\n",
       "    <tr>\n",
       "      <th>count</th>\n",
       "      <td>227520.000000</td>\n",
       "      <td>227520.000000</td>\n",
       "    </tr>\n",
       "    <tr>\n",
       "      <th>mean</th>\n",
       "      <td>143.113924</td>\n",
       "      <td>17.018837</td>\n",
       "    </tr>\n",
       "    <tr>\n",
       "      <th>std</th>\n",
       "      <td>133.218871</td>\n",
       "      <td>14.470524</td>\n",
       "    </tr>\n",
       "    <tr>\n",
       "      <th>min</th>\n",
       "      <td>8.000000</td>\n",
       "      <td>0.740000</td>\n",
       "    </tr>\n",
       "    <tr>\n",
       "      <th>25%</th>\n",
       "      <td>41.000000</td>\n",
       "      <td>7.380000</td>\n",
       "    </tr>\n",
       "    <tr>\n",
       "      <th>50%</th>\n",
       "      <td>83.000000</td>\n",
       "      <td>12.860000</td>\n",
       "    </tr>\n",
       "    <tr>\n",
       "      <th>75%</th>\n",
       "      <td>250.000000</td>\n",
       "      <td>21.630000</td>\n",
       "    </tr>\n",
       "    <tr>\n",
       "      <th>max</th>\n",
       "      <td>402.000000</td>\n",
       "      <td>164.530000</td>\n",
       "    </tr>\n",
       "  </tbody>\n",
       "</table>\n",
       "</div>"
      ],
      "text/plain": [
       "       ürün besin değeri    ürün fiyatı\n",
       "count      227520.000000  227520.000000\n",
       "mean          143.113924      17.018837\n",
       "std           133.218871      14.470524\n",
       "min             8.000000       0.740000\n",
       "25%            41.000000       7.380000\n",
       "50%            83.000000      12.860000\n",
       "75%           250.000000      21.630000\n",
       "max           402.000000     164.530000"
      ]
     },
     "execution_count": 5,
     "metadata": {},
     "output_type": "execute_result"
    }
   ],
   "source": [
    "df.describe()"
   ]
  },
  {
   "cell_type": "code",
   "execution_count": 6,
   "id": "dfb5e56f",
   "metadata": {},
   "outputs": [
    {
     "data": {
      "text/html": [
       "<div>\n",
       "<style scoped>\n",
       "    .dataframe tbody tr th:only-of-type {\n",
       "        vertical-align: middle;\n",
       "    }\n",
       "\n",
       "    .dataframe tbody tr th {\n",
       "        vertical-align: top;\n",
       "    }\n",
       "\n",
       "    .dataframe thead th {\n",
       "        text-align: right;\n",
       "    }\n",
       "</style>\n",
       "<table border=\"1\" class=\"dataframe\">\n",
       "  <thead>\n",
       "    <tr style=\"text-align: right;\">\n",
       "      <th></th>\n",
       "      <th>tarih</th>\n",
       "      <th>ürün</th>\n",
       "      <th>ürün besin değeri</th>\n",
       "      <th>ürün kategorisi</th>\n",
       "      <th>ürün fiyatı</th>\n",
       "      <th>ürün üretim yeri</th>\n",
       "      <th>market</th>\n",
       "      <th>şehir</th>\n",
       "    </tr>\n",
       "  </thead>\n",
       "  <tbody>\n",
       "    <tr>\n",
       "      <th>0</th>\n",
       "      <td>2019-01-01</td>\n",
       "      <td>kıyma</td>\n",
       "      <td>120</td>\n",
       "      <td>et</td>\n",
       "      <td>32.70</td>\n",
       "      <td>Yurt içi</td>\n",
       "      <td>K</td>\n",
       "      <td>S</td>\n",
       "    </tr>\n",
       "    <tr>\n",
       "      <th>1</th>\n",
       "      <td>2019-01-01</td>\n",
       "      <td>tavuk</td>\n",
       "      <td>103</td>\n",
       "      <td>et</td>\n",
       "      <td>11.04</td>\n",
       "      <td>Yurt içi</td>\n",
       "      <td>K</td>\n",
       "      <td>S</td>\n",
       "    </tr>\n",
       "    <tr>\n",
       "      <th>2</th>\n",
       "      <td>2019-01-01</td>\n",
       "      <td>hindi</td>\n",
       "      <td>160</td>\n",
       "      <td>et</td>\n",
       "      <td>11.20</td>\n",
       "      <td>Yurt içi</td>\n",
       "      <td>K</td>\n",
       "      <td>S</td>\n",
       "    </tr>\n",
       "    <tr>\n",
       "      <th>3</th>\n",
       "      <td>2019-01-01</td>\n",
       "      <td>Bakla-kuru</td>\n",
       "      <td>354</td>\n",
       "      <td>sebze ve bakliyat</td>\n",
       "      <td>7.04</td>\n",
       "      <td>Yurt içi</td>\n",
       "      <td>K</td>\n",
       "      <td>S</td>\n",
       "    </tr>\n",
       "    <tr>\n",
       "      <th>4</th>\n",
       "      <td>2019-01-01</td>\n",
       "      <td>Bakla-taze</td>\n",
       "      <td>72</td>\n",
       "      <td>sebze ve bakliyat</td>\n",
       "      <td>13.28</td>\n",
       "      <td>Yurt içi</td>\n",
       "      <td>K</td>\n",
       "      <td>S</td>\n",
       "    </tr>\n",
       "  </tbody>\n",
       "</table>\n",
       "</div>"
      ],
      "text/plain": [
       "        tarih        ürün  ürün besin değeri    ürün kategorisi  ürün fiyatı  \\\n",
       "0  2019-01-01       kıyma                120                 et        32.70   \n",
       "1  2019-01-01       tavuk                103                 et        11.04   \n",
       "2  2019-01-01       hindi                160                 et        11.20   \n",
       "3  2019-01-01  Bakla-kuru                354  sebze ve bakliyat         7.04   \n",
       "4  2019-01-01  Bakla-taze                 72  sebze ve bakliyat        13.28   \n",
       "\n",
       "  ürün üretim yeri market şehir  \n",
       "0         Yurt içi      K     S  \n",
       "1         Yurt içi      K     S  \n",
       "2         Yurt içi      K     S  \n",
       "3         Yurt içi      K     S  \n",
       "4         Yurt içi      K     S  "
      ]
     },
     "execution_count": 6,
     "metadata": {},
     "output_type": "execute_result"
    }
   ],
   "source": [
    "df.head()"
   ]
  },
  {
   "cell_type": "markdown",
   "id": "c79349f9",
   "metadata": {},
   "source": [
    "eğitim"
   ]
  },
  {
   "cell_type": "code",
   "execution_count": 7,
   "id": "2078159a",
   "metadata": {},
   "outputs": [],
   "source": [
    "# Tarihleri yıl ve aya böl\n",
    "df['tarih'] = pd.to_datetime(df['tarih'])\n",
    "df['year'] = df['tarih'].dt.year\n",
    "df['month'] = df['tarih'].dt.month\n",
    "\n",
    "# Gereksiz sütunları düşür\n",
    "df = df.drop(columns=['tarih', 'ürün besin değeri'])\n",
    "\n",
    "# Kategorik değişkenleri one-hot encode et (veya label encode)\n",
    "df = pd.get_dummies(df, columns=['ürün', 'ürün kategorisi', 'ürün üretim yeri', 'market', 'şehir'], drop_first=True)"
   ]
  },
  {
   "cell_type": "code",
   "execution_count": 9,
   "id": "ea4f71ff",
   "metadata": {},
   "outputs": [
    {
     "name": "stdout",
     "output_type": "stream",
     "text": [
      "<class 'pandas.core.frame.DataFrame'>\n",
      "RangeIndex: 227520 entries, 0 to 227519\n",
      "Data columns (total 96 columns):\n",
      " #   Column                                       Non-Null Count   Dtype  \n",
      "---  ------                                       --------------   -----  \n",
      " 0   ürün fiyatı                                  227520 non-null  float64\n",
      " 1   year                                         227520 non-null  int32  \n",
      " 2   month                                        227520 non-null  int32  \n",
      " 3   ürün_Bakla-kuru                              227520 non-null  bool   \n",
      " 4   ürün_Bakla-taze                              227520 non-null  bool   \n",
      " 5   ürün_Bamya                                   227520 non-null  bool   \n",
      " 6   ürün_Barbunya-kuru                           227520 non-null  bool   \n",
      " 7   ürün_Bezelye-taze                            227520 non-null  bool   \n",
      " 8   ürün_Biber-yeşil                             227520 non-null  bool   \n",
      " 9   ürün_Brüksel laha.                           227520 non-null  bool   \n",
      " 10  ürün_Bulgur                                  227520 non-null  bool   \n",
      " 11  ürün_Buğday ekmeği                           227520 non-null  bool   \n",
      " 12  ürün_Domates                                 227520 non-null  bool   \n",
      " 13  ürün_Elma                                    227520 non-null  bool   \n",
      " 14  ürün_Enginar                                 227520 non-null  bool   \n",
      " 15  ürün_Erik türleri                            227520 non-null  bool   \n",
      " 16  ürün_Erişte                                  227520 non-null  bool   \n",
      " 17  ürün_Fasulye-kuru                            227520 non-null  bool   \n",
      " 18  ürün_Fasulye-taze                            227520 non-null  bool   \n",
      " 19  ürün_Havuç                                   227520 non-null  bool   \n",
      " 20  ürün_Ispanak                                 227520 non-null  bool   \n",
      " 21  ürün_Kabak                                   227520 non-null  bool   \n",
      " 22  ürün_Karadut                                 227520 non-null  bool   \n",
      " 23  ürün_Karnabahar                              227520 non-null  bool   \n",
      " 24  ürün_Karpuz                                  227520 non-null  bool   \n",
      " 25  ürün_Kavun                                   227520 non-null  bool   \n",
      " 26  ürün_Kayısı                                  227520 non-null  bool   \n",
      " 27  ürün_Kaşar peyniri                           227520 non-null  bool   \n",
      " 28  ürün_Kereviz-baş                             227520 non-null  bool   \n",
      " 29  ürün_Kiraz                                   227520 non-null  bool   \n",
      " 30  ürün_Kırmızı-pancar                          227520 non-null  bool   \n",
      " 31  ürün_Lahana                                  227520 non-null  bool   \n",
      " 32  ürün_Limon                                   227520 non-null  bool   \n",
      " 33  ürün_Makarna                                 227520 non-null  bool   \n",
      " 34  ürün_Mandalina                               227520 non-null  bool   \n",
      " 35  ürün_Mantar                                  227520 non-null  bool   \n",
      " 36  ürün_Marul                                   227520 non-null  bool   \n",
      " 37  ürün_Mercimek-kuru                           227520 non-null  bool   \n",
      " 38  ürün_Muz                                     227520 non-null  bool   \n",
      " 39  ürün_Mısır                                   227520 non-null  bool   \n",
      " 40  ürün_Mısır unu                               227520 non-null  bool   \n",
      " 41  ürün_Nar                                     227520 non-null  bool   \n",
      " 42  ürün_Nişasta                                 227520 non-null  bool   \n",
      " 43  ürün_Nohut                                   227520 non-null  bool   \n",
      " 44  ürün_Pancar                                  227520 non-null  bool   \n",
      " 45  ürün_Patates                                 227520 non-null  bool   \n",
      " 46  ürün_Patlıcan                                227520 non-null  bool   \n",
      " 47  ürün_Pazı                                    227520 non-null  bool   \n",
      " 48  ürün_Pilav                                   227520 non-null  bool   \n",
      " 49  ürün_Pirinç unu                              227520 non-null  bool   \n",
      " 50  ürün_Portakal                                227520 non-null  bool   \n",
      " 51  ürün_Pırasa                                  227520 non-null  bool   \n",
      " 52  ürün_Salatalık                               227520 non-null  bool   \n",
      " 53  ürün_Semizotu                                227520 non-null  bool   \n",
      " 54  ürün_Tarhana                                 227520 non-null  bool   \n",
      " 55  ürün_Vişne                                   227520 non-null  bool   \n",
      " 56  ürün_Yulaf unu                               227520 non-null  bool   \n",
      " 57  ürün_badem                                   227520 non-null  bool   \n",
      " 58  ürün_bal                                     227520 non-null  bool   \n",
      " 59  ürün_beyaz peynir                            227520 non-null  bool   \n",
      " 60  ürün_ceviz                                   227520 non-null  bool   \n",
      " 61  ürün_fındık                                  227520 non-null  bool   \n",
      " 62  ürün_fıstık                                  227520 non-null  bool   \n",
      " 63  ürün_hindi                                   227520 non-null  bool   \n",
      " 64  ürün_kaju                                    227520 non-null  bool   \n",
      " 65  ürün_kaymak                                  227520 non-null  bool   \n",
      " 66  ürün_krema                                   227520 non-null  bool   \n",
      " 67  ürün_kıyma                                   227520 non-null  bool   \n",
      " 68  ürün_salam                                   227520 non-null  bool   \n",
      " 69  ürün_sosis                                   227520 non-null  bool   \n",
      " 70  ürün_sucuk                                   227520 non-null  bool   \n",
      " 71  ürün_tam buğday ekmek                        227520 non-null  bool   \n",
      " 72  ürün_tavuk                                   227520 non-null  bool   \n",
      " 73  ürün_tereyağ                                 227520 non-null  bool   \n",
      " 74  ürün_yoğurt                                  227520 non-null  bool   \n",
      " 75  ürün_yumurta                                 227520 non-null  bool   \n",
      " 76  ürün_Çilek                                   227520 non-null  bool   \n",
      " 77  ürün_Üzüm                                    227520 non-null  bool   \n",
      " 78  ürün_İncir                                   227520 non-null  bool   \n",
      " 79  ürün_Şeftali                                 227520 non-null  bool   \n",
      " 80  ürün_Şehriye                                 227520 non-null  bool   \n",
      " 81  ürün kategorisi_kuruyemiş                    227520 non-null  bool   \n",
      " 82  ürün kategorisi_meyve                        227520 non-null  bool   \n",
      " 83  ürün kategorisi_sebze ve bakliyat            227520 non-null  bool   \n",
      " 84  ürün kategorisi_süt ürünleri ve kahvaltılık  227520 non-null  bool   \n",
      " 85  ürün kategorisi_tahıl ve ürünleri            227520 non-null  bool   \n",
      " 86  ürün üretim yeri_Yurt içi                    227520 non-null  bool   \n",
      " 87  market_K                                     227520 non-null  bool   \n",
      " 88  market_Y                                     227520 non-null  bool   \n",
      " 89  şehir_E                                      227520 non-null  bool   \n",
      " 90  şehir_F                                      227520 non-null  bool   \n",
      " 91  şehir_G                                      227520 non-null  bool   \n",
      " 92  şehir_H                                      227520 non-null  bool   \n",
      " 93  şehir_L                                      227520 non-null  bool   \n",
      " 94  şehir_S                                      227520 non-null  bool   \n",
      " 95  şehir_V                                      227520 non-null  bool   \n",
      "dtypes: bool(93), float64(1), int32(2)\n",
      "memory usage: 23.7 MB\n"
     ]
    }
   ],
   "source": [
    "df.info()"
   ]
  },
  {
   "cell_type": "code",
   "execution_count": 10,
   "id": "2b212172",
   "metadata": {},
   "outputs": [
    {
     "name": "stdout",
     "output_type": "stream",
     "text": [
      "Learning rate set to 0.115274\n",
      "0:\tlearn: 13.1175096\ttest: 13.0348251\tbest: 13.0348251 (0)\ttotal: 359ms\tremaining: 5m 58s\n",
      "100:\tlearn: 2.9488694\ttest: 2.6084764\tbest: 2.6084764 (100)\ttotal: 11.3s\tremaining: 1m 40s\n",
      "200:\tlearn: 2.8054887\ttest: 2.4842810\tbest: 2.4842810 (200)\ttotal: 24.2s\tremaining: 1m 36s\n",
      "300:\tlearn: 2.6793714\ttest: 2.3720473\tbest: 2.3720280 (299)\ttotal: 38.1s\tremaining: 1m 28s\n",
      "400:\tlearn: 2.6124791\ttest: 2.3145441\tbest: 2.3145441 (400)\ttotal: 51s\tremaining: 1m 16s\n",
      "500:\tlearn: 2.5108842\ttest: 2.2237775\tbest: 2.2237775 (500)\ttotal: 1m 3s\tremaining: 1m 3s\n",
      "600:\tlearn: 2.4236522\ttest: 2.1530246\tbest: 2.1530246 (600)\ttotal: 1m 15s\tremaining: 50.1s\n",
      "700:\tlearn: 2.3675353\ttest: 2.1120343\tbest: 2.1120343 (700)\ttotal: 1m 26s\tremaining: 36.9s\n",
      "800:\tlearn: 2.3201325\ttest: 2.0732241\tbest: 2.0732241 (800)\ttotal: 1m 38s\tremaining: 24.4s\n",
      "900:\tlearn: 2.2790105\ttest: 2.0381598\tbest: 2.0381598 (900)\ttotal: 1m 49s\tremaining: 12s\n",
      "999:\tlearn: 2.2376549\ttest: 1.9987454\tbest: 1.9987454 (999)\ttotal: 2m 2s\tremaining: 0us\n",
      "\n",
      "bestTest = 1.998745393\n",
      "bestIteration = 999\n",
      "\n"
     ]
    },
    {
     "data": {
      "text/plain": [
       "<catboost.core.CatBoostRegressor at 0x27215358c10>"
      ]
     },
     "execution_count": 10,
     "metadata": {},
     "output_type": "execute_result"
    }
   ],
   "source": [
    "# Kategorik değişkenleri isim olarak ver\n",
    "cat_features = ['ürün', 'ürün kategorisi', 'ürün üretim yeri', 'market', 'şehir']\n",
    "\n",
    "# Yeniden yüklemeden önce bu kez kategorikleri koru\n",
    "df_orig = pd.read_csv(\"train.csv\")\n",
    "df_orig['tarih'] = pd.to_datetime(df_orig['tarih'])\n",
    "df_orig['year'] = df_orig['tarih'].dt.year\n",
    "df_orig['month'] = df_orig['tarih'].dt.month\n",
    "\n",
    "X = df_orig.drop(columns=['tarih', 'ürün besin değeri', 'ürün fiyatı'])\n",
    "y = df_orig['ürün fiyatı']\n",
    "\n",
    "X_train, X_val, y_train, y_val = train_test_split(X, y, test_size=0.2, random_state=42)\n",
    "\n",
    "model = CatBoostRegressor(verbose=100, cat_features=cat_features)\n",
    "model.fit(X_train, y_train, cat_features=cat_features, eval_set=(X_val, y_val))\n"
   ]
  },
  {
   "cell_type": "code",
   "execution_count": 12,
   "id": "9fd20dc6",
   "metadata": {},
   "outputs": [],
   "source": [
    "test_df = pd.read_csv(\"testFeatures.csv\")\n",
    "test_df['tarih'] = pd.to_datetime(test_df['tarih'])\n",
    "test_df['year'] = test_df['tarih'].dt.year\n",
    "test_df['month'] = test_df['tarih'].dt.month\n",
    "X_test = test_df.drop(columns=['tarih', 'ürün besin değeri'])\n",
    "X_test = X_test[X_train.columns]\n",
    "# Tahmin yap\n",
    "test_pool = Pool(X_test, cat_features=cat_features)\n",
    "predictions = model.predict(X_test)\n",
    "\n",
    "# Sample Submission'a yaz\n",
    "sample = pd.read_csv(\"submission.csv\")\n",
    "sample['ürün fiyatı'] = predictions\n",
    "sample.to_csv(\"submission.csv\", index=False)\n"
   ]
  },
  {
   "cell_type": "markdown",
   "id": "94de0ec2",
   "metadata": {},
   "source": [
    "Modelin doğruluk değerleri"
   ]
  },
  {
   "cell_type": "code",
   "execution_count": 27,
   "id": "f70b54c6",
   "metadata": {},
   "outputs": [
    {
     "name": "stdout",
     "output_type": "stream",
     "text": [
      "Validation RMSE: 1.9987453885737443\n"
     ]
    }
   ],
   "source": [
    "from sklearn.metrics import mean_squared_error\n",
    "import numpy as np\n",
    "\n",
    "y_pred_val = model.predict(X_val)\n",
    "rmse = np.sqrt(mean_squared_error(y_val, y_pred_val))\n",
    "print(\"Validation RMSE:\", rmse)\n"
   ]
  },
  {
   "cell_type": "code",
   "execution_count": 28,
   "id": "820d7ff7",
   "metadata": {},
   "outputs": [
    {
     "data": {
      "image/png": "[encoded data removed]",
      "text/plain": [
       "<Figure size 1200x800 with 1 Axes>"
      ]
     },
     "metadata": {},
     "output_type": "display_data"
    }
   ],
   "source": [
    "import matplotlib.pyplot as plt\n",
    "\n",
    "feature_importances = model.get_feature_importance()\n",
    "feature_names = X_train.columns\n",
    "\n",
    "plt.figure(figsize=(12, 8))\n",
    "plt.barh(feature_names, feature_importances)\n",
    "plt.title(\"Özellik Önem Skorları\")\n",
    "plt.xlabel(\"Önem\")\n",
    "plt.tight_layout()\n",
    "plt.show()\n"
   ]
  },
  {
   "cell_type": "markdown",
   "id": "1fe43b2b",
   "metadata": {},
   "source": [
    "Parametre ayarlaması"
   ]
  }
 ],
 "metadata": {
  "kernelspec": {
   "display_name": "base",
   "language": "python",
   "name": "python3"
  },
  "language_info": {
   "codemirror_mode": {
    "name": "ipython",
    "version": 3
   },
   "file_extension": ".py",
   "mimetype": "text/x-python",
   "name": "python",
   "nbconvert_exporter": "python",
   "pygments_lexer": "ipython3",
   "version": "3.11.5"
  }
 },
 "nbformat": 4,
 "nbformat_minor": 5
}
